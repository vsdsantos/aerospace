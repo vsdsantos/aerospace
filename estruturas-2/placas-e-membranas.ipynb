{
 "cells": [
  {
   "cell_type": "markdown",
   "metadata": {},
   "source": [
    "# Flexão de Placas e Membranas"
   ]
  },
  {
   "cell_type": "code",
   "execution_count": 26,
   "metadata": {},
   "outputs": [
    {
     "data": {
      "text/plain": [
       "(x, y, D, q, N_x, N_y, N_xy, a, b)"
      ]
     },
     "execution_count": 26,
     "metadata": {},
     "output_type": "execute_result"
    }
   ],
   "source": [
    "# variáveis\n",
    "var('x y D q N_x N_y N_xy a b')"
   ]
  },
  {
   "cell_type": "code",
   "execution_count": 30,
   "metadata": {},
   "outputs": [],
   "source": [
    "# limites\n",
    "assume(0<=x<=a)\n",
    "assume(0<=y<=b)\n",
    "assume(N_x >= 0)\n",
    "assume(N_y >= 0)\n",
    "assume(N_xy >= 0)\n",
    "assume(q >= 0)\n",
    "assume(D > 0)"
   ]
  },
  {
   "cell_type": "code",
   "execution_count": 22,
   "metadata": {},
   "outputs": [
    {
     "data": {
      "text/plain": [
       "w(x, y)"
      ]
     },
     "execution_count": 22,
     "metadata": {},
     "output_type": "execute_result"
    }
   ],
   "source": [
    "# funções\n",
    "w = function('w')(x,y) # deslocamento\n",
    "w"
   ]
  },
  {
   "cell_type": "code",
   "execution_count": 24,
   "metadata": {},
   "outputs": [
    {
     "data": {
      "text/plain": [
       "diff(w(x, y), x, x, x, x) + 2*diff(w(x, y), x, x, y, y) + diff(w(x, y), y, y, y, y) == (N_x*diff(w(x, y), x, x) + 2*N_xy*diff(w(x, y), x, y) + N_y*diff(w(x, y), y, y) + q)/D"
      ]
     },
     "execution_count": 24,
     "metadata": {},
     "output_type": "execute_result"
    }
   ],
   "source": [
    "# equação diferencial\n",
    "pde = diff(w, x, 4) + 2*diff(w, y, y, x, x) + diff(w, y, 4) == (q+N_x*diff(w, x, 2)+N_y*diff(w, y, 2)+2*N_xy*diff(w, x, y))/D\n",
    "pde"
   ]
  },
  {
   "cell_type": "markdown",
   "metadata": {},
   "source": [
    "## Aproximação de Navier"
   ]
  },
  {
   "cell_type": "code",
   "execution_count": 36,
   "metadata": {},
   "outputs": [],
   "source": [
    "def navier_term(m, n):\n",
    "    A_mn = var('A_{}{}'.format(m, n))\n",
    "    return A_mn*sin(m*pi*x/a)*cos(n*pi*y/b)"
   ]
  },
  {
   "cell_type": "code",
   "execution_count": 39,
   "metadata": {},
   "outputs": [],
   "source": [
    "def combination_navier_aprox(m_modes, n_modes):\n",
    "    w = 0\n",
    "    for m in m_modes:\n",
    "        for n in n_modes:\n",
    "            w += navier_term(m, n)\n",
    "    return w"
   ]
  },
  {
   "cell_type": "code",
   "execution_count": 40,
   "metadata": {},
   "outputs": [],
   "source": [
    "def navier_aprox(modes):\n",
    "    w = 0\n",
    "    for m, n in modes:\n",
    "        w += navier_term(m, n)\n",
    "    return w"
   ]
  },
  {
   "cell_type": "code",
   "execution_count": 42,
   "metadata": {},
   "outputs": [
    {
     "data": {
      "text/plain": [
       "A_22*cos(2*pi*y/b)*sin(2*pi*x/a) + A_11*cos(pi*y/b)*sin(pi*x/a)"
      ]
     },
     "execution_count": 42,
     "metadata": {},
     "output_type": "execute_result"
    }
   ],
   "source": [
    "navier_aprox([(1,1), (2,2)])"
   ]
  },
  {
   "cell_type": "code",
   "execution_count": null,
   "metadata": {},
   "outputs": [],
   "source": []
  }
 ],
 "metadata": {
  "kernelspec": {
   "display_name": "SageMath 9.2",
   "language": "sage",
   "name": "sagemath"
  },
  "language_info": {
   "codemirror_mode": {
    "name": "ipython",
    "version": 3
   },
   "file_extension": ".py",
   "mimetype": "text/x-python",
   "name": "python",
   "nbconvert_exporter": "python",
   "pygments_lexer": "ipython3",
   "version": "3.8.5"
  }
 },
 "nbformat": 4,
 "nbformat_minor": 4
}
