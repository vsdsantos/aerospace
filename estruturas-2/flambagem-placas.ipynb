{
 "cells": [
  {
   "cell_type": "markdown",
   "metadata": {},
   "source": [
    "# Flambagem de Placas"
   ]
  },
  {
   "cell_type": "markdown",
   "metadata": {},
   "source": [
    "## Equação diferencial para flambagem"
   ]
  },
  {
   "cell_type": "code",
   "execution_count": 2,
   "metadata": {},
   "outputs": [
    {
     "data": {
      "text/html": [
       "<script type=\"math/tex\">\\frac{\\mathit{Nx} \\frac{\\partial^{2}}{(\\partial x)^{2}}w\\left(x, y\\right)}{D} + \\frac{\\partial^{4}}{(\\partial x)^{4}}w\\left(x, y\\right) + 2 \\, \\frac{\\partial^{4}}{(\\partial x)^{2}(\\partial y)^{2}}w\\left(x, y\\right) + \\frac{\\partial^{4}}{(\\partial y)^{4}}w\\left(x, y\\right) = 0</script>"
      ],
      "text/plain": [
       "<script type=\"math/tex\">\\frac{\\mathit{Nx} \\frac{\\partial^{2}}{(\\partial x)^{2}}w\\left(x, y\\right)}{D} + \\frac{\\partial^{4}}{(\\partial x)^{4}}w\\left(x, y\\right) + 2 \\, \\frac{\\partial^{4}}{(\\partial x)^{2}(\\partial y)^{2}}w\\left(x, y\\right) + \\frac{\\partial^{4}}{(\\partial y)^{4}}w\\left(x, y\\right) = 0</script>"
      ]
     },
     "execution_count": 2,
     "metadata": {},
     "output_type": "execute_result"
    }
   ],
   "source": [
    "var('x y D Nx')\n",
    "assume(D > 0)\n",
    "assume(Nx > 0)\n",
    "w = function('w')\n",
    "pde = diff(w(x,y), x, 4) + 2*diff(w(x,y), x, x, y, y) + diff(w(x,y), y, 4) + Nx*diff(w(x,y), x, 2)/D == 0\n",
    "html(pde)"
   ]
  },
  {
   "cell_type": "code",
   "execution_count": 45,
   "metadata": {},
   "outputs": [
    {
     "data": {
      "text/html": [
       "<script type=\"math/tex\">D = -\\frac{E t^{3}}{12 \\, {\\left(\\nu^{2} - 1\\right)}}</script>"
      ],
      "text/plain": [
       "<script type=\"math/tex\">D = -\\frac{E t^{3}}{12 \\, {\\left(\\nu^{2} - 1\\right)}}</script>"
      ]
     },
     "execution_count": 45,
     "metadata": {},
     "output_type": "execute_result"
    }
   ],
   "source": [
    "var('E t nu')\n",
    "assume(E > 0, t > 0, 1 > nu > 0)\n",
    "eq1 = D == E*t^3/(12*(1-nu^2))\n",
    "html(eq1)"
   ]
  },
  {
   "cell_type": "markdown",
   "metadata": {},
   "source": [
    "## Aproximação de Navier"
   ]
  },
  {
   "cell_type": "code",
   "execution_count": 4,
   "metadata": {},
   "outputs": [
    {
     "data": {
      "text/html": [
       "<script type=\"math/tex\">\\left( x, y \\right) \\ {\\mapsto} \\ A \\sin\\left(\\frac{\\pi m x}{a}\\right) \\sin\\left(\\frac{\\pi n y}{b}\\right)</script>"
      ],
      "text/plain": [
       "<script type=\"math/tex\">\\left( x, y \\right) \\ {\\mapsto} \\ A \\sin\\left(\\frac{\\pi m x}{a}\\right) \\sin\\left(\\frac{\\pi n y}{b}\\right)</script>"
      ]
     },
     "execution_count": 4,
     "metadata": {},
     "output_type": "execute_result"
    }
   ],
   "source": [
    "var('A a b m n')\n",
    "assume(A > 0, a > 0, b > 0)\n",
    "assume(m, n, \"integer\")\n",
    "assume(m > 0, n > 0)\n",
    "f_sol(x,y) = A*sin(m*pi*x/a)*sin(n*pi*y/b)\n",
    "html(f_sol)"
   ]
  },
  {
   "cell_type": "code",
   "execution_count": 5,
   "metadata": {},
   "outputs": [
    {
     "data": {
      "text/html": [
       "<script type=\"math/tex\">\\frac{\\pi^{4} A m^{4} \\sin\\left(\\frac{\\pi m x}{a}\\right) \\sin\\left(\\frac{\\pi n y}{b}\\right)}{a^{4}} + \\frac{2 \\, \\pi^{4} A m^{2} n^{2} \\sin\\left(\\frac{\\pi m x}{a}\\right) \\sin\\left(\\frac{\\pi n y}{b}\\right)}{a^{2} b^{2}} + \\frac{\\pi^{4} A n^{4} \\sin\\left(\\frac{\\pi m x}{a}\\right) \\sin\\left(\\frac{\\pi n y}{b}\\right)}{b^{4}} - \\frac{\\pi^{2} A \\mathit{Nx} m^{2} \\sin\\left(\\frac{\\pi m x}{a}\\right) \\sin\\left(\\frac{\\pi n y}{b}\\right)}{D a^{2}} = 0</script>"
      ],
      "text/plain": [
       "<script type=\"math/tex\">\\frac{\\pi^{4} A m^{4} \\sin\\left(\\frac{\\pi m x}{a}\\right) \\sin\\left(\\frac{\\pi n y}{b}\\right)}{a^{4}} + \\frac{2 \\, \\pi^{4} A m^{2} n^{2} \\sin\\left(\\frac{\\pi m x}{a}\\right) \\sin\\left(\\frac{\\pi n y}{b}\\right)}{a^{2} b^{2}} + \\frac{\\pi^{4} A n^{4} \\sin\\left(\\frac{\\pi m x}{a}\\right) \\sin\\left(\\frac{\\pi n y}{b}\\right)}{b^{4}} - \\frac{\\pi^{2} A \\mathit{Nx} m^{2} \\sin\\left(\\frac{\\pi m x}{a}\\right) \\sin\\left(\\frac{\\pi n y}{b}\\right)}{D a^{2}} = 0</script>"
      ]
     },
     "execution_count": 5,
     "metadata": {},
     "output_type": "execute_result"
    }
   ],
   "source": [
    "eq = pde.substitute_function(w, f_sol)\n",
    "html(eq)"
   ]
  },
  {
   "cell_type": "markdown",
   "metadata": {},
   "source": [
    "## Carga crítica"
   ]
  },
  {
   "cell_type": "code",
   "execution_count": 21,
   "metadata": {},
   "outputs": [
    {
     "data": {
      "text/html": [
       "<script type=\"math/tex\">\\mathit{Nx} = \\frac{\\pi^{2} {\\left(b^{2} m^{2} + a^{2} n^{2}\\right)}^{2} D}{a^{2} b^{4} m^{2}}</script>"
      ],
      "text/plain": [
       "<script type=\"math/tex\">\\mathit{Nx} = \\frac{\\pi^{2} {\\left(b^{2} m^{2} + a^{2} n^{2}\\right)}^{2} D}{a^{2} b^{4} m^{2}}</script>"
      ]
     },
     "execution_count": 21,
     "metadata": {},
     "output_type": "execute_result"
    }
   ],
   "source": [
    "N_cr = eq.solve(Nx)[0]\n",
    "html(N_cr.factor())"
   ]
  },
  {
   "cell_type": "code",
   "execution_count": 22,
   "metadata": {},
   "outputs": [
    {
     "data": {
      "text/html": [
       "<script type=\"math/tex\">\\mathit{Nx} = \\frac{\\pi^{2} {\\left(b^{2} m^{2} + a^{2}\\right)}^{2} D}{a^{2} b^{4} m^{2}}</script>"
      ],
      "text/plain": [
       "<script type=\"math/tex\">\\mathit{Nx} = \\frac{\\pi^{2} {\\left(b^{2} m^{2} + a^{2}\\right)}^{2} D}{a^{2} b^{4} m^{2}}</script>"
      ]
     },
     "execution_count": 22,
     "metadata": {},
     "output_type": "execute_result"
    }
   ],
   "source": [
    "N_cr = N_cr.subs(n = 1).factor()\n",
    "html(N_cr)"
   ]
  },
  {
   "cell_type": "code",
   "execution_count": 23,
   "metadata": {},
   "outputs": [
    {
     "data": {
      "text/html": [
       "<script type=\"math/tex\">\\frac{\\pi^{2} D k}{b^{2}}</script>"
      ],
      "text/plain": [
       "<script type=\"math/tex\">\\frac{\\pi^{2} D k}{b^{2}}</script>"
      ]
     },
     "execution_count": 23,
     "metadata": {},
     "output_type": "execute_result"
    }
   ],
   "source": [
    "var('k')\n",
    "N_cr_k = (pi^2*D/b^2)*k\n",
    "k = (m*b/a + a/m/b)^2\n",
    "html(N_cr_k)"
   ]
  },
  {
   "cell_type": "code",
   "execution_count": 24,
   "metadata": {},
   "outputs": [
    {
     "data": {
      "text/html": [
       "<script type=\"math/tex\">{\\left(\\frac{b m}{a} + \\frac{a}{b m}\\right)}^{2}</script>"
      ],
      "text/plain": [
       "<script type=\"math/tex\">{\\left(\\frac{b m}{a} + \\frac{a}{b m}\\right)}^{2}</script>"
      ]
     },
     "execution_count": 24,
     "metadata": {},
     "output_type": "execute_result"
    }
   ],
   "source": [
    "html(k)"
   ]
  },
  {
   "cell_type": "code",
   "execution_count": 73,
   "metadata": {},
   "outputs": [
    {
     "data": {
      "image/png": "[encoded data removed]",
      "text/plain": [
       "Graphics object consisting of 5 graphics primitives"
      ]
     },
     "execution_count": 73,
     "metadata": {},
     "output_type": "execute_result"
    }
   ],
   "source": [
    "var('x_p')\n",
    "assume(x_p > 0)\n",
    "fs = []\n",
    "for m_i in range(1,6):\n",
    "    f(x_p) = k.subs(a = x_p*b, m = m_i)\n",
    "    fs.append(f)\n",
    "    \n",
    "plot(fs, detect_poles=True, xmin=0.3, xmax=5, ymax=10, ymin=0, axes_labels=['a/b', 'k'],\n",
    "     legend_label=['m=1', 'm=2', 'm=3', 'm=4', 'm=5'])"
   ]
  },
  {
   "cell_type": "code",
   "execution_count": 75,
   "metadata": {},
   "outputs": [
    {
     "data": {
      "text/plain": [
       "[0, sqrt(2), sqrt(3)*sqrt(2), 2*sqrt(3), 2*sqrt(5), 5]"
      ]
     },
     "execution_count": 75,
     "metadata": {},
     "output_type": "execute_result"
    }
   ],
   "source": [
    "intersept = [0]\n",
    "for i in range(4):\n",
    "    s = solve(fs[i] == fs[i+1], x_p)[-1]\n",
    "    intersept.append(s.rhs())\n",
    "intersept.append(5)\n",
    "intersept"
   ]
  },
  {
   "cell_type": "code",
   "execution_count": 78,
   "metadata": {},
   "outputs": [
    {
     "data": {
      "image/png": "[encoded data removed]",
      "text/plain": [
       "Graphics object consisting of 6 graphics primitives"
      ]
     },
     "execution_count": 78,
     "metadata": {},
     "output_type": "execute_result"
    }
   ],
   "source": [
    "p = plot([], xmin=0.3, xmax=5, ymax=10, ymin=0, axes_labels=['a/b', 'k'])\n",
    "for i in range(5):\n",
    "    p += plot(fs[i], (x_p, intersept[i], intersept[i+1]))\n",
    "p += line([(0,4),(5,4)], linestyle='--')\n",
    "p"
   ]
  },
  {
   "cell_type": "markdown",
   "metadata": {},
   "source": [
    "## Tensão"
   ]
  },
  {
   "cell_type": "code",
   "execution_count": 80,
   "metadata": {},
   "outputs": [
    {
     "data": {
      "text/html": [
       "<script type=\"math/tex\">\\sigma_{\\mathit{cr}} = \\frac{\\mathit{Nx}}{t}</script>"
      ],
      "text/plain": [
       "<script type=\"math/tex\">\\sigma_{\\mathit{cr}} = \\frac{\\mathit{Nx}}{t}</script>"
      ]
     },
     "execution_count": 80,
     "metadata": {},
     "output_type": "execute_result"
    }
   ],
   "source": [
    "html(sigma_cr == N_cr.lhs()/t)"
   ]
  },
  {
   "cell_type": "markdown",
   "metadata": {},
   "source": [
    "Para $a/b$ pequeno"
   ]
  },
  {
   "cell_type": "code",
   "execution_count": 37,
   "metadata": {},
   "outputs": [
    {
     "data": {
      "text/html": [
       "<script type=\"math/tex\">\\sigma_{\\mathit{cr}} = -\\frac{\\pi^{2} E t^{2}}{12 \\, {\\left(\\nu^{2} - 1\\right)} a^{2}}</script>"
      ],
      "text/plain": [
       "<script type=\"math/tex\">\\sigma_{\\mathit{cr}} = -\\frac{\\pi^{2} E t^{2}}{12 \\, {\\left(\\nu^{2} - 1\\right)} a^{2}}</script>"
      ]
     },
     "execution_count": 37,
     "metadata": {},
     "output_type": "execute_result"
    }
   ],
   "source": [
    "var('sigma_cr')\n",
    "sigma_cr_1 = sigma_cr == N_cr_k.subs(eq1, k=(b/a)^2, m = 1)/t\n",
    "html(sigma_cr_1)"
   ]
  },
  {
   "cell_type": "markdown",
   "metadata": {},
   "source": [
    "Para $a/b > 3$"
   ]
  },
  {
   "cell_type": "code",
   "execution_count": 44,
   "metadata": {},
   "outputs": [
    {
     "data": {
      "text/html": [
       "<script type=\"math/tex\">\\sigma_{\\mathit{cr}} = -\\frac{\\pi^{2} E t^{2}}{3 \\, {\\left(\\nu^{2} - 1\\right)} b^{2}}</script>"
      ],
      "text/plain": [
       "<script type=\"math/tex\">\\sigma_{\\mathit{cr}} = -\\frac{\\pi^{2} E t^{2}}{3 \\, {\\left(\\nu^{2} - 1\\right)} b^{2}}</script>"
      ]
     },
     "execution_count": 44,
     "metadata": {},
     "output_type": "execute_result"
    }
   ],
   "source": [
    "sigma_cr_2 = sigma_cr == N_cr_k.subs(eq1, k=4)/t\n",
    "html(sigma_cr_2)"
   ]
  },
  {
   "cell_type": "code",
   "execution_count": null,
   "metadata": {},
   "outputs": [],
   "source": []
  }
 ],
 "metadata": {
  "kernelspec": {
   "display_name": "SageMath 9.2",
   "language": "sage",
   "name": "sagemath"
  },
  "language_info": {
   "codemirror_mode": {
    "name": "ipython",
    "version": 3
   },
   "file_extension": ".py",
   "mimetype": "text/x-python",
   "name": "python",
   "nbconvert_exporter": "python",
   "pygments_lexer": "ipython3",
   "version": "3.8.5"
  }
 },
 "nbformat": 4,
 "nbformat_minor": 4
}
