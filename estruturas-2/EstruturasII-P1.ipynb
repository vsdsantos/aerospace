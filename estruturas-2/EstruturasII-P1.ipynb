{
 "cells": [
  {
   "cell_type": "code",
   "execution_count": 3,
   "metadata": {},
   "outputs": [
    {
     "data": {
      "text/plain": [
       "F |--> 10500/((1.29333343244815e-07)*F^4 + 1)"
      ]
     },
     "execution_count": 3,
     "metadata": {},
     "output_type": "execute_result"
    }
   ],
   "source": [
    "var('F')\n",
    "E_t(F) = 10500/(1+(3*5/7)*(F/63.8)^(5-1))\n",
    "simplify(E_t)"
   ]
  },
  {
   "cell_type": "code",
   "execution_count": 130,
   "metadata": {},
   "outputs": [],
   "source": [
    "var('x EI L kz k1 k2 g1 g2')\n",
    "assume(EI > 0)\n",
    "assume(x > 0)\n",
    "assume(L > 0)\n",
    "assume(kz > 0)\n",
    "assume(k1 > 0, k2 > 0, g1 > 0, g2 > 0)\n",
    "\n",
    "# w = [sin(pi*x/(L)), sin(2*pi*x/(L)), sin(3*pi*x/(L))]\n",
    "w = [-8*x^2/L^2 + 8*x/L -1]\n",
    "w_l = [diff(f,x) for f in w]\n",
    "w_ll = [diff(f,x) for f in w_l]\n"
   ]
  },
  {
   "cell_type": "code",
   "execution_count": 171,
   "metadata": {},
   "outputs": [],
   "source": [
    "def aij(i, j, w, w_l, w_ll):\n",
    "    i, j = i-1, j-1\n",
    "    return integrate(EI*w_ll[i]*w_ll[j], x, 0, L) \\\n",
    "            + integrate(kz*w[i]*w[j], x, 0, L) \\\n",
    "            + k1*w[i](x=0)*w[j](x=0) \\\n",
    "            + k2*w[i](x=L)*w[j](x=L) \\\n",
    "            + g1*w_l[i](x=0)*w_l[j](x=0) \\\n",
    "            + g2*w_l[i](x=L)*w_l[j](x=L)\n",
    "\n",
    "def bij(i,j, w, w_l, w_ll):\n",
    "    i, j = i-1, j-1\n",
    "    return integrate(w_l[i]*w_l[j], x, 0, L)"
   ]
  },
  {
   "cell_type": "code",
   "execution_count": 172,
   "metadata": {},
   "outputs": [],
   "source": [
    "a11 = aij(1,1,w, w_l, w_ll)\n",
    "# a22 = aij(2,2,w, w_l, w_ll)\n",
    "# a33 = aij(3,3,w, w_l, w_ll)\n",
    "# a12 = aij(1,2,w, w_l, w_ll)\n",
    "# a13 = aij(1,3,w, w_l, w_ll)\n",
    "# a23 = aij(2,3,w, w_l, w_ll)"
   ]
  },
  {
   "cell_type": "code",
   "execution_count": 173,
   "metadata": {},
   "outputs": [],
   "source": [
    "b11 = bij(1,1,w,w_l,w_ll)\n",
    "# b22 = bij(2,2,w,w_l,w_ll)\n",
    "# b33 = bij(3,3,w,w_l,w_ll)\n",
    "# b12 = bij(1,2,w,w_l,w_ll)\n",
    "# b13 = bij(1,3,w,w_l,w_ll)\n",
    "# b23 = bij(2,3,w,w_l,w_ll)\n"
   ]
  },
  {
   "cell_type": "code",
   "execution_count": 174,
   "metadata": {},
   "outputs": [],
   "source": [
    "A = Matrix([[a11, a12, a13],[a12, a22, a23],[a13, a23, a33]])"
   ]
  },
  {
   "cell_type": "code",
   "execution_count": 175,
   "metadata": {},
   "outputs": [],
   "source": [
    "B = Matrix([[b11, b12, b13],[b12, b22, b23],[b13, b23, b33]])"
   ]
  },
  {
   "cell_type": "code",
   "execution_count": 176,
   "metadata": {},
   "outputs": [],
   "source": [
    "P = min((A-B).eigenvalues())"
   ]
  },
  {
   "cell_type": "code",
   "execution_count": 194,
   "metadata": {},
   "outputs": [
    {
     "data": {
      "text/plain": [
       "540632.524000000"
      ]
     },
     "execution_count": 194,
     "metadata": {},
     "output_type": "execute_result"
    }
   ],
   "source": [
    "P(L=1000, k1=6, k2=6, g1=4, g2=4, kz=2, EI=4.136e10)"
   ]
  },
  {
   "cell_type": "code",
   "execution_count": 190,
   "metadata": {},
   "outputs": [
    {
     "data": {
      "text/plain": [
       "7/320*L^2*kz + 3/64*L*k1 + 3/64*L*k2 + 3*g1/L + 3*g2/L + 12*EI/L^2"
      ]
     },
     "execution_count": 190,
     "metadata": {},
     "output_type": "execute_result"
    }
   ],
   "source": [
    "P.expand()"
   ]
  },
  {
   "cell_type": "code",
   "execution_count": 118,
   "metadata": {},
   "outputs": [
    {
     "data": {
      "text/plain": [
       "[256/3/L   -64/L]\n",
       "[  -64/L    64/L]"
      ]
     },
     "execution_count": 118,
     "metadata": {},
     "output_type": "execute_result"
    }
   ],
   "source": [
    "B"
   ]
  },
  {
   "cell_type": "code",
   "execution_count": 178,
   "metadata": {},
   "outputs": [],
   "source": [
    "P = a11/b11"
   ]
  },
  {
   "cell_type": "code",
   "execution_count": 179,
   "metadata": {},
   "outputs": [
    {
     "data": {
      "text/plain": [
       "1/320*(7*L*kz + 15*k1 + 15*k2 + 960*g1/L^2 + 960*g2/L^2 + 3840*EI/L^3)*L"
      ]
     },
     "execution_count": 179,
     "metadata": {},
     "output_type": "execute_result"
    }
   ],
   "source": [
    "P"
   ]
  },
  {
   "cell_type": "code",
   "execution_count": 142,
   "metadata": {},
   "outputs": [],
   "source": [
    "t = integrate(EI*(-16/L^2)^2 + 2*(-8*x^2/L^2 + 8*x/L -1)^2, x, 0, L) + (6+6+4*(8/L)^2+4*(8/L)^2)"
   ]
  },
  {
   "cell_type": "code",
   "execution_count": 144,
   "metadata": {},
   "outputs": [
    {
     "data": {
      "text/plain": [
       "14/15*L + 256*EI/L^3 + 512/L^2 + 12"
      ]
     },
     "execution_count": 144,
     "metadata": {},
     "output_type": "execute_result"
    }
   ],
   "source": [
    "t.expand()"
   ]
  },
  {
   "cell_type": "code",
   "execution_count": 149,
   "metadata": {},
   "outputs": [],
   "source": [
    "t2 = (t/integrate((-16*x/L^2 + 8/L)^2, x, 0, L)).expand()"
   ]
  },
  {
   "cell_type": "code",
   "execution_count": 196,
   "metadata": {},
   "outputs": [
    {
     "data": {
      "text/plain": [
       "4.96320000024606e11"
      ]
     },
     "execution_count": 196,
     "metadata": {},
     "output_type": "execute_result"
    }
   ],
   "source": [
    "t2(L=1, EI=4.136e10)"
   ]
  },
  {
   "cell_type": "code",
   "execution_count": 197,
   "metadata": {},
   "outputs": [
    {
     "data": {
      "text/plain": [
       "           2           \n",
       "12⋅EI   7⋅L    9⋅L   24\n",
       "───── + ──── + ─── + ──\n",
       "   2    160     16   L \n",
       "  L                    "
      ]
     },
     "execution_count": 197,
     "metadata": {},
     "output_type": "execute_result"
    }
   ],
   "source": [
    "unicode_art(t2.expand())"
   ]
  },
  {
   "cell_type": "code",
   "execution_count": 166,
   "metadata": {},
   "outputs": [
    {
     "data": {
      "text/plain": [
       "2.45250000000000e7"
      ]
     },
     "execution_count": 166,
     "metadata": {},
     "output_type": "execute_result"
    }
   ],
   "source": [
    "2500000*9.81"
   ]
  },
  {
   "cell_type": "code",
   "execution_count": null,
   "metadata": {},
   "outputs": [],
   "source": [
    "import plt as "
   ]
  }
 ],
 "metadata": {
  "kernelspec": {
   "display_name": "SageMath 9.2",
   "language": "sage",
   "name": "sagemath"
  },
  "language_info": {
   "codemirror_mode": {
    "name": "ipython",
    "version": 3
   },
   "file_extension": ".py",
   "mimetype": "text/x-python",
   "name": "python",
   "nbconvert_exporter": "python",
   "pygments_lexer": "ipython3",
   "version": "3.8.5"
  }
 },
 "nbformat": 4,
 "nbformat_minor": 4
}
